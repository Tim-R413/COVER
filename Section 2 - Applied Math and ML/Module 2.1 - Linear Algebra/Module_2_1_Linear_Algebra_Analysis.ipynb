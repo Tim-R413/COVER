{
  "nbformat": 4,
  "nbformat_minor": 0,
  "metadata": {
    "accelerator": "GPU",
    "colab": {
      "name": "Module 2.1 Linear Algebra Analysis.ipynb",
      "provenance": [],
      "collapsed_sections": [],
      "include_colab_link": true
    },
    "kernelspec": {
      "display_name": "Python 3",
      "name": "python3"
    }
  },
  "cells": [
    {
      "cell_type": "markdown",
      "metadata": {
        "id": "view-in-github",
        "colab_type": "text"
      },
      "source": [
        "<a href=\"https://colab.research.google.com/github/Tim-R413/COVER/blob/master/Section%202%20-%20Applied%20Math%20and%20ML/Module%202.1%20-%20Linear%20Algebra/Module_2_1_Linear_Algebra_Analysis.ipynb\" target=\"_parent\"><img src=\"https://colab.research.google.com/assets/colab-badge.svg\" alt=\"Open In Colab\"/></a>"
      ]
    },
    {
      "cell_type": "markdown",
      "metadata": {
        "id": "yeA6xblhq8w8"
      },
      "source": [
        "# 02.00 - Linear Algebra"
      ]
    },
    {
      "cell_type": "markdown",
      "metadata": {
        "id": "F-3yQvOQHjLr"
      },
      "source": [
        "Linear algebra is the branch of mathematics concerning linear equations and linear functions and their representations through matrices and vector spaces.\n",
        "\n",
        "Machine Learning relies heavily on Linear Algebra, so it is essential to understand what vectors and matrices are, what operations you can perform with them, and how they can be useful.\n",
        "\n",
        "If you are already familiar with linear algebra, feel free to skip this chapter but note that the implementation of certain functions are different between Tensorflow 1.0 and Tensorflow 2.0 so you should atleast skim through the code.\n",
        "\n",
        "If you have had no exposure at all to linear algebra, this chapter will teach you enough to read this book."
      ]
    },
    {
      "cell_type": "code",
      "metadata": {
        "colab": {
          "base_uri": "https://localhost:8080/",
          "height": 85
        },
        "id": "4cvzagFXgQrd",
        "outputId": "fc155a91-c258-47e4-bfa6-1607b2d2e484"
      },
      "source": [
        "# Installs\n",
        "!pip install --upgrade tf-nightly-2.0-preview"
      ],
      "execution_count": null,
      "outputs": [
        {
          "output_type": "stream",
          "text": [
            "\u001b[K     |████████████████████████████████| 79.9MB 1.8MB/s \n",
            "\u001b[K     |████████████████████████████████| 3.0MB 49.7MB/s \n",
            "\u001b[K     |████████████████████████████████| 419kB 53.2MB/s \n",
            "\u001b[K     |████████████████████████████████| 61kB 29.2MB/s \n",
            "\u001b[?25h"
          ],
          "name": "stdout"
        }
      ]
    },
    {
      "cell_type": "code",
      "metadata": {
        "id": "of02mDcgUuHQ"
      },
      "source": [
        "# Imports\n",
        "import tensorflow as tf\n",
        "import sys\n",
        "import numpy as np\n",
        "import matplotlib.pyplot as plt\n",
        "import pandas as pd\n",
        "\n",
        "\"\"\"\n",
        "If you are running this notebook in Google colab, make sure to upload the helpers.py file to your \n",
        "session before running it, but if you are running this in Binder, then you \n",
        "don't have to worry about it. The helpers.py file will be in the notebook\n",
        "folder in GitHub.\n",
        "\n",
        "\"\"\"\n",
        "from helpers import vector_plot, plot_transform"
      ],
      "execution_count": null,
      "outputs": []
    },
    {
      "cell_type": "markdown",
      "metadata": {
        "id": "JBpOlp4jrAoy"
      },
      "source": [
        "# 02.01 - Scalars, Vectors, Matrices and Tensors"
      ]
    },
    {
      "cell_type": "markdown",
      "metadata": {
        "id": "kWXNG-cmHrih"
      },
      "source": [
        "__Scalars:__ are just a single number. For example temperature, which is denoted by just one number.\n",
        "\n",
        "\n",
        "__Vectors:__ are an array of numbers. The numbers are arranged in order and we can identify each individual number by its index in that ordering. We can think of vectors as identifying points in space, with each element giving the coordinate along a different axis. In simple terms, a vector is an arrow representing a quantity that has both magnitude and direction wherein the length of the arrow represents the magnitude and the orientation tells you the direction. For example wind, which has a direction and magnitude.\n",
        "\n",
        "__Matrices:__ A matrix is a 2D-array of numbers, so each element is identified by two indices instead of just one. If a real valued matrix $A$ has a height of *m* and a width of *n*, then we say that $A \\in \\mathbb{R}^{m \\times n}$. We identify the elements of the matrix as $A_{m,n}$ where *m* represents the row and *n* represents the column.\n",
        "\n",
        "![Scalars, Vectors, Matrices and Tensors](https://raw.githubusercontent.com/adhiraiyan/DeepLearningWithTF2.0/master/notebooks/figures/fig0201a.png)\n",
        "\n",
        "__Tensors:__ In the general case, are an array of numbers arranged on a regular grid with a variable number of axes is knows as a tensor. We identify the elements of a tensor $A$ at coordinates(*i, j, k*) by writing $A_{i, j, k}$. But to truly understand tensors, we need to expand the way we think of vectors as only arrows with a magnitude and direction. Remember that a vector can be represented by three components, namely the x, y and z components (basis vectors). If you have a pen and a paper, let's do a small experiment, place the pen vertically on the paper and slant it by some angle and now shine a light from top such that the shadow of the pen falls on the paper, this shadow, represents the x component of the vector \"pen\" and the height from the paper to the tip of the pen is the y component. Now, let's take these components to describe tensors, imagine, you are Indiana Jones or a treasure hunter and you are trapped in a cube and there are three arrows flying towards you from the three faces (to represent x, y, z axis) of the cube 😬, I know this will be the last thing you would think in such a situation but you can think of those three arrows as vectors pointing towards you from the three faces of the cube and you can represent those vectors (arrows) in x, y and z components, now that is a rank 2 tensor (matrix) with 9 components. Remember that this is a very very simple explanation of tensors. Following is a representation of a tensor:\n",
        "\n",
        "![Tensors](https://raw.githubusercontent.com/adhiraiyan/DeepLearningWithTF2.0/master/notebooks/figures/fig0201b.PNG)\n",
        "\n"
      ]
    },
    {
      "cell_type": "markdown",
      "metadata": {
        "id": "HdIOKDSbNBaz"
      },
      "source": [
        "We can add matrices to each other as long as they have the same shape, just by adding their corresponding elements:\n",
        "\n",
        "$$\\color{orange}{C = A + B \\ where \\ C_{i,j} = A_{i,j} + B_{i,j} \\tag{1}}$$\n",
        "\n",
        "\n",
        "In tensorflow a:\n",
        "\n",
        "- Rank 0 Tensor is a Scalar\n",
        "- Rank 1 Tensor is a Vector\n",
        "- Rank 2 Tensor is a Matrix\n",
        "- Rank 3 Tensor is a 3-Tensor\n",
        "- Rank n Tensor is a n-Tensor"
      ]
    },
    {
      "cell_type": "code",
      "metadata": {
        "colab": {
          "base_uri": "https://localhost:8080/",
          "height": 255
        },
        "id": "rKermF6KHs11",
        "outputId": "9964b9e9-5832-4bab-8e0e-446bf52a2026"
      },
      "source": [
        "# let's create a ones 3x3 rank 2 tensor\n",
        "rank_2_tensor_A = tf.ones([3, 3], name='MatrixA')\n",
        "print(\"3x3 Rank 2 Tensor A: \\n{}\\n\".format(rank_2_tensor_A))\n",
        "\n",
        "# let's manually create a 3x3 rank two tensor and specify the data type as float\n",
        "rank_2_tensor_B = tf.constant([[1, 2, 3], [4, 5, 6], [7, 8, 9]], name='MatrixB', dtype=tf.float32)\n",
        "print(\"3x3 Rank 2 Tensor B: \\n{}\\n\".format(rank_2_tensor_B))\n",
        "\n",
        "# addition of the two tensors\n",
        "rank_2_tensor_C = tf.add(rank_2_tensor_A, rank_2_tensor_B, name='MatrixC')\n",
        "print(\"Rank 2 Tensor C with shape={} and elements: \\n{}\".format(rank_2_tensor_C.shape, rank_2_tensor_C))"
      ],
      "execution_count": null,
      "outputs": [
        {
          "output_type": "stream",
          "text": [
            "3x3 Rank 2 Tensor A: \n",
            "[[1. 1. 1.]\n",
            " [1. 1. 1.]\n",
            " [1. 1. 1.]]\n",
            "\n",
            "3x3 Rank 2 Tensor B: \n",
            "[[1. 2. 3.]\n",
            " [4. 5. 6.]\n",
            " [7. 8. 9.]]\n",
            "\n",
            "Rank 2 Tensor C with shape=(3, 3) and elements: \n",
            "[[ 2.  3.  4.]\n",
            " [ 5.  6.  7.]\n",
            " [ 8.  9. 10.]]\n"
          ],
          "name": "stdout"
        }
      ]
    },
    {
      "cell_type": "code",
      "metadata": {
        "colab": {
          "base_uri": "https://localhost:8080/",
          "height": 71
        },
        "id": "C1Fm6XkQaYcn",
        "outputId": "6575ea04-ebce-4b73-8d92-15a885289850"
      },
      "source": [
        "# Let's see what happens if the shapes are not the same\n",
        "two_by_three = tf.ones([2, 3])\n",
        "try:\n",
        "    incompatible_tensor = tf.add(two_by_three, rank_2_tensor_B)\n",
        "except:\n",
        "    print(\"\"\"Incompatible shapes to add with two_by_three of shape {0} and 3x3 Rank 2 Tensor B of shape {1}\n",
        "    \"\"\".format(two_by_three.shape, rank_2_tensor_B.shape))"
      ],
      "execution_count": null,
      "outputs": [
        {
          "output_type": "stream",
          "text": [
            "Incompatible shapes to add with two_by_three of shape (2, 3) and 3x3 Rank 2 Tensor B of shape (3, 3)\n",
            "    \n"
          ],
          "name": "stdout"
        }
      ]
    },
    {
      "cell_type": "markdown",
      "metadata": {
        "id": "XuJ4rvIFNafT"
      },
      "source": [
        "We can also add a scalar to a matrix or multiply a matrix by a scalar, just by performing that operation on each element of a matrix:\n",
        "\n",
        "$$\\color{orange}{D = a \\cdot B + c \\ where  \\ D_{i,j} = a \\cdot B_{i,j} + c \\tag{2}}$$"
      ]
    },
    {
      "cell_type": "code",
      "metadata": {
        "colab": {
          "base_uri": "https://localhost:8080/",
          "height": 306
        },
        "id": "97sSpKcbTNoY",
        "outputId": "5546ce85-9392-4fc5-f6b1-a2443ef25103"
      },
      "source": [
        "# Create scalar a, c and Matrix B\n",
        "rank_0_tensor_a = tf.constant(2, name=\"scalar_a\", dtype=tf.float32)\n",
        "rank_2_tensor_B = tf.constant([[1, 2, 3], [4, 5, 6], [7, 8, 9]], name='MatrixB', dtype=tf.float32)\n",
        "rank_0_tensor_c = tf.constant(3, name=\"scalar_c\", dtype=tf.float32)\n",
        "\n",
        "# multiplying aB\n",
        "multiply_scalar = tf.multiply(rank_0_tensor_a, rank_2_tensor_B)\n",
        "# adding aB + c\n",
        "rank_2_tensor_D = tf.add(multiply_scalar, rank_0_tensor_c, name=\"MatrixD\")\n",
        "\n",
        "print(\"\"\"Original Rank 2 Tensor B: \\n{0} \\n\\nScalar a: {1}\n",
        "Rank 2 Tensor for aB: \\n{2} \\n\\nScalar c: {3} \\nRank 2 Tensor D = aB + c: \\n{4}\n",
        "\"\"\".format(rank_2_tensor_B, rank_0_tensor_a, multiply_scalar, rank_0_tensor_c, rank_2_tensor_D))"
      ],
      "execution_count": null,
      "outputs": [
        {
          "output_type": "stream",
          "text": [
            "Original Rank 2 Tensor B: \n",
            "[[1. 2. 3.]\n",
            " [4. 5. 6.]\n",
            " [7. 8. 9.]] \n",
            "\n",
            "Scalar a: 2.0\n",
            "Rank 2 Tensor for aB: \n",
            "[[ 2.  4.  6.]\n",
            " [ 8. 10. 12.]\n",
            " [14. 16. 18.]] \n",
            "\n",
            "Scalar c: 3.0 \n",
            "Rank 2 Tensor D = aB + c: \n",
            "[[ 5.  7.  9.]\n",
            " [11. 13. 15.]\n",
            " [17. 19. 21.]]\n",
            "\n"
          ],
          "name": "stdout"
        }
      ]
    },
    {
      "cell_type": "markdown",
      "metadata": {
        "id": "5uI2sKntMyj6"
      },
      "source": [
        "One important operation on matrices is the __transpose__. The transpose of a matrix is the mirror image of the martrix across a diagonal line, called the __main diagonal__. We denote the transpose of a matrix $A$ as $A^\\top$ and is defined as such: $(A^\\top)_{i, j} = A_{j, i}$"
      ]
    },
    {
      "cell_type": "code",
      "metadata": {
        "colab": {
          "base_uri": "https://localhost:8080/",
          "height": 153
        },
        "id": "pJwqOF1hzZNn",
        "outputId": "8edb6277-2eb5-40cb-e71a-f1276402d493"
      },
      "source": [
        "# Creating a Matrix E\n",
        "rank_2_tensor_E = tf.constant([[1, 2, 3], [4, 5, 6]])\n",
        "# Transposing Matrix E\n",
        "transpose_E = tf.transpose(rank_2_tensor_E, name=\"transposeE\")\n",
        "\n",
        "print(\"\"\"Rank 2 Tensor E of shape: {0} and elements: \\n{1}\\n\n",
        "Transpose of Rank 2 Tensor E of shape: {2} and elements: \\n{3}\"\"\".format(rank_2_tensor_E.shape, rank_2_tensor_E, \n",
        "                                                                         transpose_E.shape, transpose_E))"
      ],
      "execution_count": null,
      "outputs": [
        {
          "output_type": "stream",
          "text": [
            "Rank 2 Tensor E of shape: (2, 3) and elements: \n",
            "[[1 2 3]\n",
            " [4 5 6]]\n",
            "\n",
            "Transpose of Rank 2 Tensor E of shape: (3, 2) and elements: \n",
            "[[1 4]\n",
            " [2 5]\n",
            " [3 6]]\n"
          ],
          "name": "stdout"
        }
      ]
    },
    {
      "cell_type": "markdown",
      "metadata": {
        "id": "uU6F-99XM3_v"
      },
      "source": [
        "In deep learning we allow the addition of matrix and a vector, yielding another matrix where $C_{i, j} = A_{i, j} + b_{j}$. In other words, the vector $b$ is added to each row of the matrix. This implicit copying of $b$ to many locations is called __broadcasting__"
      ]
    },
    {
      "cell_type": "code",
      "metadata": {
        "colab": {
          "base_uri": "https://localhost:8080/",
          "height": 255
        },
        "id": "v3s5ZyQKUSY6",
        "outputId": "9fa8acd7-910c-4a63-d538-a336e25ed839"
      },
      "source": [
        "# Creating a vector b\n",
        "rank_1_tensor_b = tf.constant([[4.], [5.], [6.]])\n",
        "# Broadcasting a vector b to a matrix A such that it yields a matrix F = A + b\n",
        "rank_2_tensor_F = tf.add(rank_2_tensor_A, rank_1_tensor_b, name=\"broadcastF\")\n",
        "\n",
        "print(\"\"\"Rank 2 tensor A: \\n{0}\\n \\nRank 1 Tensor b: \\n{1} \n",
        "\\nRank 2 tensor F = A + b:\\n{2}\"\"\".format(rank_2_tensor_A, rank_1_tensor_b, rank_2_tensor_F))"
      ],
      "execution_count": null,
      "outputs": [
        {
          "output_type": "stream",
          "text": [
            "Rank 2 tensor A: \n",
            "[[1. 1. 1.]\n",
            " [1. 1. 1.]\n",
            " [1. 1. 1.]]\n",
            " \n",
            "Rank 1 Tensor b: \n",
            "[[4.]\n",
            " [5.]\n",
            " [6.]] \n",
            "\n",
            "Rank 2 tensor F = A + b:\n",
            "[[5. 5. 5.]\n",
            " [6. 6. 6.]\n",
            " [7. 7. 7.]]\n"
          ],
          "name": "stdout"
        }
      ]
    },
    {
      "cell_type": "markdown",
      "metadata": {
        "id": "ziVxUA2WHyf4"
      },
      "source": [
        "# 02.02 - Multiplying Matrices and Vectors"
      ]
    },
    {
      "cell_type": "markdown",
      "metadata": {
        "id": "MzuhfYTyOR9N"
      },
      "source": [
        "To define the matrix product of matrices $A \\ \\text{and} \\ B, \\ A$ must have the same number of columns as $B$. If $A$ is of shape *m x n* and $B$ is of shape *n x p*, then $C$ is of shape *m x p*.\n",
        "\n",
        "$$\\color{orange}{C_{i, j} = \\displaystyle\\sum_k A_{i, k} B_{k, j} \\tag{3}}$$\n",
        "\n",
        "If you do not recall how matrix multiplication is performed, take a look at:\n",
        "\n",
        "![Multiplying Matrices](https://raw.githubusercontent.com/adhiraiyan/DeepLearningWithTF2.0/master/notebooks/figures/fig0202a.jpg)"
      ]
    },
    {
      "cell_type": "code",
      "metadata": {
        "colab": {
          "base_uri": "https://localhost:8080/",
          "height": 272
        },
        "id": "Rrv8DzWuHzWR",
        "outputId": "977d5ffd-3709-4924-d07e-459fed5ddb28"
      },
      "source": [
        "# Matrix A and B with shapes (2, 3) and (3, 4)\n",
        "mmv_matrix_A = tf.ones([2, 3], name=\"matrix_A\")\n",
        "mmv_matrix_B = tf.constant([[1, 2, 3, 4], [1, 2, 3, 4], [1, 2, 3, 4]], name=\"matrix_B\", dtype=tf.float32)\n",
        "\n",
        "# Matrix Multiplication: C = AB with C shape (2, 4)\n",
        "matrix_multiply_C = tf.matmul(mmv_matrix_A, mmv_matrix_B, name=\"matrix_multiply_C\")\n",
        "\n",
        "print(\"\"\"Matrix A: shape {0} \\nelements: \\n{1} \\n\\nMatrix B: shape {2} \\nelements: \\n{3}\n",
        "\\nMatrix C: shape {4} \\nelements: \\n{5}\"\"\".format(mmv_matrix_A.shape, mmv_matrix_A, mmv_matrix_B.shape, \n",
        "                                                  mmv_matrix_B, matrix_multiply_C.shape, matrix_multiply_C))"
      ],
      "execution_count": null,
      "outputs": [
        {
          "output_type": "stream",
          "text": [
            "Matrix A: shape (2, 3) \n",
            "elements: \n",
            "[[1. 1. 1.]\n",
            " [1. 1. 1.]] \n",
            "\n",
            "Matrix B: shape (3, 4) \n",
            "elements: \n",
            "[[1. 2. 3. 4.]\n",
            " [1. 2. 3. 4.]\n",
            " [1. 2. 3. 4.]]\n",
            "\n",
            "Matrix C: shape (2, 4) \n",
            "elements: \n",
            "[[ 3.  6.  9. 12.]\n",
            " [ 3.  6.  9. 12.]]\n"
          ],
          "name": "stdout"
        }
      ]
    },
    {
      "cell_type": "markdown",
      "metadata": {
        "id": "pz_vETHqOXpL"
      },
      "source": [
        "To get a matrix containing the product of the individual elements, we use __element wise product__ or __Hadamard product__ and is denoted as $A \\odot B$.\n"
      ]
    },
    {
      "cell_type": "code",
      "metadata": {
        "colab": {
          "base_uri": "https://localhost:8080/",
          "height": 306
        },
        "id": "mvYdsHcoahkl",
        "outputId": "b72763c3-2623-41c9-c733-838ec65845af"
      },
      "source": [
        "\"\"\"\n",
        "Note that we use multiply to do element wise matrix multiplication and matmul\n",
        "to do matrix multiplication\n",
        "\"\"\"\n",
        "# Creating new Matrix A and B with shapes (3, 3)\n",
        "element_matrix_A = tf.ones([3, 3], name=\"element_matrix_A\")\n",
        "element_matrix_B = tf.constant([[1, 2, 3], [4, 5, 6], [7, 8, 9]], name=\"element_matrix_B\", dtype=tf.float32)\n",
        "\n",
        "# Element wise multiplication of Matrix A and B\n",
        "element_wise_C = tf.multiply(element_matrix_A, element_matrix_B, name=\"element_wise_C\")\n",
        "\n",
        "print(\"\"\"Matrix A: shape {0} \\nelements: \\n{1} \\n\\nMatrix A: shape {2} \\nelements: \\n{3}\\n\n",
        "Matrix C: shape {4} \\nelements: \\n{5}\"\"\".format(element_matrix_A.shape, element_matrix_A, element_matrix_B.shape, \n",
        "                                                element_matrix_B, element_wise_C.shape, element_wise_C))"
      ],
      "execution_count": null,
      "outputs": [
        {
          "output_type": "stream",
          "text": [
            "Matrix A: shape (3, 3) \n",
            "elements: \n",
            "[[1. 1. 1.]\n",
            " [1. 1. 1.]\n",
            " [1. 1. 1.]] \n",
            "\n",
            "Matrix A: shape (3, 3) \n",
            "elements: \n",
            "[[1. 2. 3.]\n",
            " [4. 5. 6.]\n",
            " [7. 8. 9.]]\n",
            "\n",
            "Matrix C: shape (3, 3) \n",
            "elements: \n",
            "[[1. 2. 3.]\n",
            " [4. 5. 6.]\n",
            " [7. 8. 9.]]\n"
          ],
          "name": "stdout"
        }
      ]
    },
    {
      "cell_type": "markdown",
      "metadata": {
        "id": "qSDm2ptGObdH"
      },
      "source": [
        "To compute the dot product between $A$ and $B$ we compute $C_{i, j}$ as the dot product between row *i* of $A$ and column *j* of $B$.\n",
        "\n",
        "![Dot Product](https://raw.githubusercontent.com/adhiraiyan/DeepLearningWithTF2.0/master/notebooks/figures/fig0202b.jpg)"
      ]
    },
    {
      "cell_type": "code",
      "metadata": {
        "colab": {
          "base_uri": "https://localhost:8080/",
          "height": 306
        },
        "id": "gLAOBe-DahA3",
        "outputId": "6ae165de-a8ee-43ed-b181-d6bca0a6ab73"
      },
      "source": [
        "# Creating Matrix A and B with shapes (3, 3)\n",
        "dot_matrix_A = tf.ones([3, 3], name=\"dot_matrix_A\")\n",
        "dot_matrix_B = tf.constant([[1, 2, 3], [4, 5, 6], [7, 8, 9]], name=\"dot_matrix_B\", dtype=tf.float32)\n",
        "\n",
        "# Dot product of A and B\n",
        "dot_product_C = tf.tensordot(dot_matrix_A, dot_matrix_B, axes=1, name=\"dot_product_C\")\n",
        "\n",
        "print(\"\"\"Matrix A: shape {0} \\nelements: \\n{1} \\n\\nMatrix B: shape {2} \\nelements: \\n{3}\\n\n",
        "Matrix C: shape {4} \\nelements: \\n{5}\"\"\".format(dot_matrix_A.shape, dot_matrix_A, dot_matrix_B.shape, \n",
        "                                                dot_matrix_B, dot_product_C.shape, dot_product_C))"
      ],
      "execution_count": null,
      "outputs": [
        {
          "output_type": "stream",
          "text": [
            "Matrix A: shape (3, 3) \n",
            "elements: \n",
            "[[1. 1. 1.]\n",
            " [1. 1. 1.]\n",
            " [1. 1. 1.]] \n",
            "\n",
            "Matrix B: shape (3, 3) \n",
            "elements: \n",
            "[[1. 2. 3.]\n",
            " [4. 5. 6.]\n",
            " [7. 8. 9.]]\n",
            "\n",
            "Matrix C: shape (3, 3) \n",
            "elements: \n",
            "[[12. 15. 18.]\n",
            " [12. 15. 18.]\n",
            " [12. 15. 18.]]\n"
          ],
          "name": "stdout"
        }
      ]
    },
    {
      "cell_type": "markdown",
      "metadata": {
        "id": "6jzMm9CjOgrR"
      },
      "source": [
        "\n",
        "Some properties of matrix multiplication (Distributive property):\n",
        "\n",
        "$$\\color{orange}{A(B +C) = AB + AC \\tag{4}}$$"
      ]
    },
    {
      "cell_type": "code",
      "metadata": {
        "id": "2a3T93aNlEcr"
      },
      "source": [
        "# Common Matrices to check all the matrix Properties\n",
        "matrix_A = tf.constant([[1, 2], [3, 4]], name=\"matrix_a\")\n",
        "matrix_B = tf.constant([[5, 6], [7, 8]], name=\"matrix_b\")\n",
        "matrix_C = tf.constant([[9, 1], [2, 3]], name=\"matrix_c\")"
      ],
      "execution_count": null,
      "outputs": []
    },
    {
      "cell_type": "code",
      "metadata": {
        "colab": {
          "base_uri": "https://localhost:8080/",
          "height": 357
        },
        "id": "QTryvCNYcDSD",
        "outputId": "0b9bb5fc-d4de-4e77-cbb8-5d651bc6457d"
      },
      "source": [
        "# Distributive Property\n",
        "print(\"Matrix A: \\n{} \\n\\nMatrix B: \\n{} \\n\\nMatrix C: \\n{}\\n\".format(matrix_A, matrix_B, matrix_C))\n",
        "\n",
        "# AB + AC\n",
        "distributive_RHS = tf.add(tf.matmul(matrix_A, matrix_B), tf.matmul(matrix_A, matrix_C), name=\"RHS\")\n",
        "\n",
        "# A(B+C)\n",
        "distributive_LHS = tf.matmul(matrix_A, (tf.add(matrix_B, matrix_C)), name=\"LHS\")\n",
        "\n",
        "\"\"\"\n",
        "Following is another way a conditional statement can be implemented from tensorflow\n",
        "This might not seem very useful now but I want to introduce it here so you can\n",
        "figure out how it works for a simple example.\n",
        "\"\"\"\n",
        "# To compare each element in the matrix, you need to reduce it first and check if it's equal\n",
        "predictor = tf.reduce_all(tf.equal(distributive_RHS, distributive_LHS))\n",
        "\n",
        "# condition to act on if predictor is True\n",
        "def true_print(): print(\"\"\"Distributive property is valid\n",
        "RHS: AB + AC: \\n{} \\n\\nLHS: A(B+C): \\n{}\"\"\".format(distributive_RHS, distributive_LHS))\n",
        "    \n",
        "# condition to act on if predictor is False    \n",
        "def false_print(): print(\"\"\"You Broke the Distributive Property of Matrix\n",
        "RHS: AB + AC: \\n{} \\n\\nis NOT Equal to LHS: A(B+C): \\n{}\"\"\".format(distributive_RHS, distributive_LHS))\n",
        "    \n",
        "tf.cond(predictor, true_print, false_print)"
      ],
      "execution_count": null,
      "outputs": [
        {
          "output_type": "stream",
          "text": [
            "Matrix A: \n",
            "[[1 2]\n",
            " [3 4]] \n",
            "\n",
            "Matrix B: \n",
            "[[5 6]\n",
            " [7 8]] \n",
            "\n",
            "Matrix C: \n",
            "[[9 1]\n",
            " [2 3]]\n",
            "\n",
            "Distributive property is valid\n",
            "RHS: AB + AC: \n",
            "[[32 29]\n",
            " [78 65]] \n",
            "\n",
            "LHS: A(B+C): \n",
            "[[32 29]\n",
            " [78 65]]\n"
          ],
          "name": "stdout"
        }
      ]
    },
    {
      "cell_type": "markdown",
      "metadata": {
        "id": "TkSyrN_uOkUC"
      },
      "source": [
        "Some properties of matrix multiplication (Associative property):\n",
        "\n",
        "$$\\color{orange}{A(BC) = (AB)C \\tag{5}}$$"
      ]
    },
    {
      "cell_type": "code",
      "metadata": {
        "colab": {
          "base_uri": "https://localhost:8080/",
          "height": 357
        },
        "id": "jV9y4WC8cDJ5",
        "outputId": "c350ff88-e589-4ece-e707-9d70f5bd5175"
      },
      "source": [
        "# Associative property\n",
        "print(\"Matrix A: \\n{} \\n\\nMatrix B: \\n{} \\n\\nMatrix C: \\n{}\\n\".format(matrix_A, matrix_B, matrix_C))\n",
        "\n",
        "# (AB)C\n",
        "associative_RHS = tf.matmul(tf.matmul(matrix_A, matrix_B), matrix_C)\n",
        "\n",
        "# A(BC)\n",
        "associative_LHS = tf.matmul(matrix_A, tf.matmul(matrix_B, matrix_C))\n",
        "\n",
        "# To compare each element in the matrix, you need to reduce it first and check if it's equal\n",
        "predictor = tf.reduce_all(tf.equal(associative_RHS, associative_LHS))\n",
        "\n",
        "# condition to act on if predictor is True\n",
        "def true_print(): print(\"\"\"Associative property is valid\n",
        "RHS: (AB)C: \\n{} \\n\\nLHS: A(BC): \\n{}\"\"\".format(associative_RHS, associative_LHS))\n",
        "\n",
        "# condition to act on if predictor is False    \n",
        "def false_print(): print(\"\"\"You Broke the Associative Property of Matrix\n",
        "RHS: (AB)C: \\n{} \\n\\nLHS: A(BC): \\n{}\"\"\".format(associative_RHS, associative_LHS))\n",
        "    \n",
        "tf.cond(predictor, true_print, false_print)"
      ],
      "execution_count": null,
      "outputs": [
        {
          "output_type": "stream",
          "text": [
            "Matrix A: \n",
            "[[1 2]\n",
            " [3 4]] \n",
            "\n",
            "Matrix B: \n",
            "[[5 6]\n",
            " [7 8]] \n",
            "\n",
            "Matrix C: \n",
            "[[9 1]\n",
            " [2 3]]\n",
            "\n",
            "Associative property is valid\n",
            "RHS: (AB)C: \n",
            "[[215  85]\n",
            " [487 193]] \n",
            "\n",
            "LHS: A(BC): \n",
            "[[215  85]\n",
            " [487 193]]\n"
          ],
          "name": "stdout"
        }
      ]
    },
    {
      "cell_type": "markdown",
      "metadata": {
        "id": "hOiY8XZtOoap"
      },
      "source": [
        "Some properties of matrix multiplication (Matrix multiplication is not commutative):\n",
        "\n",
        "$$\\color{orange}{AB \\neq BA \\tag{6}}$$ "
      ]
    },
    {
      "cell_type": "code",
      "metadata": {
        "colab": {
          "base_uri": "https://localhost:8080/",
          "height": 289
        },
        "id": "6Pv8SOxbcC-U",
        "outputId": "5414ccad-1e67-4813-eb76-56407c93ee32"
      },
      "source": [
        "# Matrix multiplication is not commutative\n",
        "print(\"Matrix A: \\n{} \\n\\nMatrix B: \\n{}\\n\".format(matrix_A, matrix_B))\n",
        "\n",
        "# Matrix A times B\n",
        "commutative_RHS = tf.matmul(matrix_A, matrix_B)\n",
        "\n",
        "# Matrix B times A\n",
        "commutative_LHS = tf.matmul(matrix_B, matrix_A)\n",
        "\n",
        "predictor = tf.logical_not(tf.reduce_all(tf.equal(commutative_RHS, commutative_LHS)))\n",
        "def true_print(): print(\"\"\"Matrix Multiplication is not commutative\n",
        "RHS: (AB): \\n{} \\n\\nLHS: (BA): \\n{}\"\"\".format(commutative_RHS, commutative_LHS))\n",
        "\n",
        "def false_print(): print(\"\"\"You made Matrix Multiplication commutative\n",
        "RHS: (AB): \\n{} \\n\\nLHS: (BA): \\n{}\"\"\".format(commutative_RHS, commutative_LHS))\n",
        "    \n",
        "tf.cond(predictor, true_print, false_print)"
      ],
      "execution_count": null,
      "outputs": [
        {
          "output_type": "stream",
          "text": [
            "Matrix A: \n",
            "[[1 2]\n",
            " [3 4]] \n",
            "\n",
            "Matrix B: \n",
            "[[5 6]\n",
            " [7 8]]\n",
            "\n",
            "Matrix Multiplication is not commutative\n",
            "RHS: (AB): \n",
            "[[19 22]\n",
            " [43 50]] \n",
            "\n",
            "LHS: (BA): \n",
            "[[23 34]\n",
            " [31 46]]\n"
          ],
          "name": "stdout"
        }
      ]
    },
    {
      "cell_type": "markdown",
      "metadata": {
        "id": "j1Voc_AgOtIM"
      },
      "source": [
        "Some properties of matrix multiplication (Transpose):\n",
        "\n",
        "$$\\color{orange}{(AB)^\\top = B^{\\top} A^{\\top} \\tag{7}}$$"
      ]
    },
    {
      "cell_type": "code",
      "metadata": {
        "colab": {
          "base_uri": "https://localhost:8080/",
          "height": 289
        },
        "id": "Gz7cm3obcCZe",
        "outputId": "60e4938e-349e-44ac-ed60-fa43bd0fd364"
      },
      "source": [
        "# Transpose of a matrix\n",
        "print(\"Matrix A: \\n{} \\n\\nMatrix B: \\n{}\\n\".format(matrix_A, matrix_B))\n",
        "\n",
        "# Tensorflow transpose function\n",
        "transpose_RHS = tf.transpose(tf.matmul(matrix_A, matrix_B))\n",
        "\n",
        "# If you are doing matrix multiplication tf.matmul has a parameter to take the tranpose and then matrix multiply\n",
        "transpose_LHS = tf.matmul(matrix_B, matrix_A, transpose_a=True, transpose_b=True)\n",
        "    \n",
        "predictor = tf.reduce_all(tf.equal(transpose_RHS, transpose_LHS))\n",
        "def true_print(): print(\"\"\"Transpose property is valid\n",
        "RHS: (AB):^T \\n{} \\n\\nLHS: (B^T A^T): \\n{}\"\"\".format(transpose_RHS, transpose_LHS))\n",
        "\n",
        "def false_print(): print(\"\"\"You Broke the Transpose Property of Matrix\n",
        "RHS: (AB):^T \\n{} \\n\\nLHS: (B^T A^T): \\n{}\"\"\".format(transpose_RHS, transpose_LHS))\n",
        "    \n",
        "tf.cond(predictor, true_print, false_print)"
      ],
      "execution_count": null,
      "outputs": [
        {
          "output_type": "stream",
          "text": [
            "Matrix A: \n",
            "[[1 2]\n",
            " [3 4]] \n",
            "\n",
            "Matrix B: \n",
            "[[5 6]\n",
            " [7 8]]\n",
            "\n",
            "Transpose property is valid\n",
            "RHS: (AB):^T \n",
            "[[19 43]\n",
            " [22 50]] \n",
            "\n",
            "LHS: (B^T A^T): \n",
            "[[19 43]\n",
            " [22 50]]\n"
          ],
          "name": "stdout"
        }
      ]
    },
    {
      "cell_type": "markdown",
      "metadata": {
        "id": "sltlInVEH1aU"
      },
      "source": [
        "# 02.03 - Identity and Inverse Matrices"
      ]
    },
    {
      "cell_type": "markdown",
      "metadata": {
        "id": "Xg8Y9m_N3miE"
      },
      "source": [
        "Linear algebra offers a powerful tool called __matrix inversion__ that enables us to analytically solve $Ax = b$ for many values of $A$.\n",
        "\n",
        "To describe matrix inversion, we first need to define the concept of an __identity matrix__. An identity matrix is a matrix that does not change any vector when we multiply that vector by that matrix. \n",
        "\n",
        "Such that:\n",
        "\n",
        "$$\\color{orange}{I_n \\in \\mathbb{R}^{n \\times n} \\ \\text{and} \\ \\forall x \\in \\mathbb{R}^n, I_n x = x  \\tag{8}}$$\n",
        "\n",
        "The structure of the identity matrix is simple: all the entries along the main diagonal are 1, while all the other entries are zero."
      ]
    },
    {
      "cell_type": "code",
      "metadata": {
        "colab": {
          "base_uri": "https://localhost:8080/",
          "height": 255
        },
        "id": "hDED6gFiH4U9",
        "outputId": "c0c6ae20-c832-4431-dcbd-f859c7fa4994"
      },
      "source": [
        "# let's create a identity matrix I\n",
        "identity_matrix_I = tf.eye(3, 3, dtype=tf.float32, name='IdentityMatrixI')\n",
        "print(\"Identity matrix I: \\n{}\\n\".format(identity_matrix_I))\n",
        "\n",
        "# let's create a 3x1 vector x\n",
        "iim_vector_x = tf.constant([[4], [5], [6]], name='Vector_x', dtype=tf.float32)\n",
        "print(\"Vector x: \\n{}\\n\".format(iim_vector_x))\n",
        "\n",
        "# Ix will result in x\n",
        "iim_matrix_C = tf.matmul(identity_matrix_I, iim_vector_x, name='MatrixC')\n",
        "print(\"Matrix C from Ix: \\n{}\".format(iim_matrix_C))"
      ],
      "execution_count": null,
      "outputs": [
        {
          "output_type": "stream",
          "text": [
            "Identity matrix I: \n",
            "[[1. 0. 0.]\n",
            " [0. 1. 0.]\n",
            " [0. 0. 1.]]\n",
            "\n",
            "Vector x: \n",
            "[[4.]\n",
            " [5.]\n",
            " [6.]]\n",
            "\n",
            "Matrix C from Ix: \n",
            "[[4.]\n",
            " [5.]\n",
            " [6.]]\n"
          ],
          "name": "stdout"
        }
      ]
    },
    {
      "cell_type": "markdown",
      "metadata": {
        "id": "44tX7v9F4Lbv"
      },
      "source": [
        "The __matrix inverse__ of $A$ is denoted as $A^{-1}$, and it is defined as the matrix such that:\n",
        "\n",
        "$$\\color{orange}{A^{-1} A = I_n \\tag{9}}$$"
      ]
    },
    {
      "cell_type": "code",
      "metadata": {
        "colab": {
          "base_uri": "https://localhost:8080/",
          "height": 289
        },
        "id": "f6RR6gQB9bTM",
        "outputId": "9d83b6df-27c9-4268-fed0-f28ada5972f7"
      },
      "source": [
        "iim_matrix_A = tf.constant([[2, 3], [2, 2]], name='MatrixA', dtype=tf.float32)\n",
        "\n",
        "try:\n",
        "    # Tensorflow function to take the inverse\n",
        "    inverse_matrix_A = tf.linalg.inv(iim_matrix_A)\n",
        "    \n",
        "    # Creating a identity matrix using tf.eye\n",
        "    identity_matrix = tf.eye(2, 2, dtype=tf.float32, name=\"identity\")\n",
        "\n",
        "    iim_RHS = identity_matrix\n",
        "    iim_LHS = tf.matmul(inverse_matrix_A, iim_matrix_A, name=\"LHS\")\n",
        "    \n",
        "    predictor = tf.reduce_all(tf.equal(iim_RHS, iim_LHS))\n",
        "    def true_print(): print(\"\"\"A^-1 times A equals the Identity Matrix\n",
        "Matrix A: \\n{0} \\n\\nInverse of Matrix A: \\n{1} \\n\\nRHS: I: \\n{2} \\n\\nLHS: A^(-1) A: \\n{3}\"\"\".format(iim_matrix_A,\n",
        "                                                                                                    inverse_matrix_A,\n",
        "                                                                                                    iim_RHS, \n",
        "                                                                                                    iim_LHS))\n",
        "    def false_print(): print(\"Condition Failed\")\n",
        "    tf.cond(predictor, true_print, false_print)\n",
        "    \n",
        "except:\n",
        "    print(\"\"\"A^-1 doesnt exist\n",
        "    Matrix A: \\n{} \\n\\nInverse of Matrix A: \\n{} \\n\\nRHS: I: \\n{} \n",
        "    \\nLHS: (A^(-1) A): \\n{}\"\"\".format(iim_matrix_A, inverse_matrix_A, iim_RHS, iim_LHS))"
      ],
      "execution_count": null,
      "outputs": [
        {
          "output_type": "stream",
          "text": [
            "A^-1 times A equals the Identity Matrix\n",
            "Matrix A: \n",
            "[[2. 3.]\n",
            " [2. 2.]] \n",
            "\n",
            "Inverse of Matrix A: \n",
            "[[-1.   1.5]\n",
            " [ 1.  -1. ]] \n",
            "\n",
            "RHS: I: \n",
            "[[1. 0.]\n",
            " [0. 1.]] \n",
            "\n",
            "LHS: A^(-1) A: \n",
            "[[1. 0.]\n",
            " [0. 1.]]\n"
          ],
          "name": "stdout"
        }
      ]
    },
    {
      "cell_type": "markdown",
      "metadata": {
        "id": "1CAGKbsr9yZv"
      },
      "source": [
        "If you try different values for Matrix A, you will see that, not all $A$ has an inverse and we will discuss the conditions for the existence of $A^{-1}$ in the following section.\n",
        "\n",
        "We can then solve the equation $Ax = b$ as:\n",
        "\n",
        "$$\n",
        "\\color{Orange}{A^{-1} Ax = A^{-1} b} \\\\\n",
        "\\color{Orange}{I_n x = A^{-1} b} \\\\\n",
        "\\color{Orange}{x  =A^{-1} b \\tag{10}}\n",
        "$$\n",
        "\n",
        "This process depends on it being possible to find $A^{-1}$. \n",
        "\n",
        "We can calculate the inverse of a matrix by:\n",
        "\n",
        "![Matrix Inverse](https://raw.githubusercontent.com/adhiraiyan/DeepLearningWithTF2.0/master/notebooks/figures/fig0203a.PNG)\n",
        "\n",
        "Lets see how we can solve a simple linear equation: 2x + 3y = 6 and 4x + 9y = 15"
      ]
    },
    {
      "cell_type": "code",
      "metadata": {
        "colab": {
          "base_uri": "https://localhost:8080/",
          "height": 221
        },
        "id": "sizO9Oz66KpD",
        "outputId": "75428b1c-3b0f-476e-a521-7d6baf988d47"
      },
      "source": [
        "# The above system of equation can be written in the matrix format as:\n",
        "sys_matrix_A = tf.constant([[2, 3], [4, 9]], dtype=tf.float32)\n",
        "sys_vector_B = tf.constant([[6], [15]], dtype=tf.float32)\n",
        "print(\"Matrix A: \\n{} \\n\\nVector B: \\n{}\\n\".format(sys_matrix_A, sys_vector_B))\n",
        "\n",
        "# now to solve for x: x = A^(-1)b\n",
        "sys_x = tf.matmul(tf.linalg.inv(sys_matrix_A), sys_vector_B)\n",
        "print(\"Vector x is: \\n{} \\nWhere x = {} and y = {}\".format(sys_x, sys_x[0], sys_x[1]))"
      ],
      "execution_count": null,
      "outputs": [
        {
          "output_type": "stream",
          "text": [
            "Matrix A: \n",
            "[[2. 3.]\n",
            " [4. 9.]] \n",
            "\n",
            "Vector B: \n",
            "[[ 6.]\n",
            " [15.]]\n",
            "\n",
            "Vector x is: \n",
            "[[1.5]\n",
            " [1. ]] \n",
            "Where x = [1.5] and y = [1.]\n"
          ],
          "name": "stdout"
        }
      ]
    },
    {
      "cell_type": "markdown",
      "metadata": {
        "id": "3J_B7nao9De_"
      },
      "source": [
        "For $A^{-1}$ to exits, $Ax = b$ must have exactly one solution for every value of $b$. It is also possible for the system of equations to have no solutions or infinitely many solutions for some values of $b$. This is simply because we are dealing with linear systems and two lines can't cross more than once. So, they can either cross once, cross never, or have infinite crossing, meaning the two lines are superimposed.\n",
        "\n",
        "Hence if both $x$ and $y$ are solutions then:\n",
        "\n",
        "$z = \\alpha x + (1 - \\alpha)y$ is also a solution for any real $\\alpha$\n",
        "\n",
        "![Linear Dependence](https://raw.githubusercontent.com/adhiraiyan/DeepLearningWithTF2.0/master/notebooks/figures/fig0204a.png)"
      ]
    },
    {
      "cell_type": "markdown",
      "metadata": {
        "id": "yhPzsL6JEHAu"
      },
      "source": [
        "\n",
        "The span of a set of vectors is the set of all linear combinations of the vectors. Formally, a __linear combination__ of some set of vectors \n",
        "$\\{ v^1, \\cdots, v^n\\}$ is given by multiplying each vecor $v^{(i)}$ by a corresponding scalar coefficient and adding the results:\n",
        "\n",
        "$$\\color{Orange}{\\displaystyle\\sum_i c_i v^{(i)} \\tag{11}}$$\n",
        "\n",
        "Determining whether $Ax = b$ has a solution thus amounts to testing whether $b$ is in the span of the columns of $A$. This particular span is known as the __column space__ or the __range__, of $A$. \n",
        "\n",
        "In order for the system $Ax = b$ to have a solution for all values of $b \\in \\mathbb{R}^m$, we require that the column space of $A$ be all of $\\mathbb{R}^m$.\n",
        "\n",
        "A set of vectors $\\{ v^1, \\cdots, v^n\\}$ is __linearly independent__ if the only solution to the vector equation $\\lambda_1 v^1 + \\cdots \\lambda_n v^n = 0 \\ \\text{is} \\ \\lambda_i=0 \\ \\forall  i$. If a set of vectors is not linearly independent, then it is __linearly dependent__.\n",
        "\n",
        "For the matrix to have an inverse, the matrix must be __square__, that is, we require that *m = n* and that all the columns be linearly independent. A square matrix with linearly dependent columns is known as __singular__.\n",
        "\n",
        "If $A$ is not square or is square but singular, solving the equation is still possible, but we cannot use the method of matrix inversion to find the solution.\n",
        "\n",
        "So far we have discussed matrix inverses as being multiplied on the left. It is also possible to define an inverse that is multiplied on the right. For square matrixes, the left inverse and right inverse are equal."
      ]
    },
    {
      "cell_type": "code",
      "metadata": {
        "colab": {
          "base_uri": "https://localhost:8080/",
          "height": 272
        },
        "id": "QsZ8dcQgWc6M",
        "outputId": "048b082a-109a-44da-daa6-6d850329b11d"
      },
      "source": [
        "# Lets start by finding for some value of A and x, what the result of x is\n",
        "lds_matrix_A = tf.constant([[3, 1], [1, 2]], name='MatrixA', dtype=tf.float32)\n",
        "lds_vector_x = tf.constant([2, 3], name='vectorX', dtype=tf.float32)\n",
        "lds_b = tf.multiply(lds_matrix_A, lds_vector_x, name=\"b\")\n",
        "\n",
        "# Now let's see if an inverse for Matrix A exists\n",
        "try:\n",
        "    inverse_A = tf.linalg.inv(lds_matrix_A)\n",
        "    print(\"Matrix A is successfully inverted: \\n{}\".format(inverse_A))\n",
        "except:\n",
        "    print(\"Inverse of Matrix A: \\n{} \\ndoesn't exist. \".format(lds_matrix_A))\n",
        "\n",
        "# Let's find the value of x using x = A^(-1)b\n",
        "verify_x = tf.matmul(inverse_A, lds_b, name=\"verifyX\")\n",
        "predictor = tf.equal(lds_vector_x[0], verify_x[0][0]) and tf.equal(lds_vector_x[1], verify_x[1][1])\n",
        "\n",
        "def true_print(): print(\"\"\"\\nThe two x values match, we proved that if a matrix A is invertible\n",
        "Then x = A^T b, \\nwhere x: {}, \\n\\nA^T: \\n{}, \\n\\nb: \\n{}\"\"\".format(lds_vector_x, inverse_A, lds_b))\n",
        "\n",
        "def false_print(): print(\"\"\"\\nThe two x values don't match.\n",
        "Vector x: {} \\n\\nA^(-1)b: \\n{}\"\"\".format(lds_vector_x, verify_x))\n",
        "    \n",
        "tf.cond(predictor, true_print, false_print)"
      ],
      "execution_count": null,
      "outputs": [
        {
          "output_type": "stream",
          "text": [
            "Matrix A is successfully inverted: \n",
            "[[ 0.40000004 -0.20000002]\n",
            " [-0.20000002  0.6       ]]\n",
            "\n",
            "The two x values match, we proved that if a matrix A is invertible\n",
            "Then x = A^T b, \n",
            "where x: [2. 3.], \n",
            "\n",
            "A^T: \n",
            "[[ 0.40000004 -0.20000002]\n",
            " [-0.20000002  0.6       ]], \n",
            "\n",
            "b: \n",
            "[[6. 3.]\n",
            " [2. 6.]]\n"
          ],
          "name": "stdout"
        }
      ]
    },
    {
      "cell_type": "markdown",
      "metadata": {
        "id": "GzrynyTagib-"
      },
      "source": [
        "Note that, finding inverses can be a challenging process if you want to calculate it, but using tensorflow or any other library, you can easily check if the inverse of the matrix exists. If you know the conditions and know how to solve matrix equations using tensorflow, you should be good, but for the reader who wants to go deeper, check [Linear Dependence and Span\n",
        "](https://math.ryerson.ca/~danziger/professor/MTH141/Handouts/depend.pdf) for further examples and definitions."
      ]
    },
    {
      "cell_type": "markdown",
      "metadata": {
        "id": "rB0seiU_H-hx"
      },
      "source": [
        "# 02.05 - Norms"
      ]
    },
    {
      "cell_type": "markdown",
      "metadata": {
        "id": "p3ieNjy4oHtr"
      },
      "source": [
        "In machine learning if we need to measure the size of vectors, we use a function called a __norm__. And norm is what is generally used to evaluate the error of a model. Formally, the $L^P$ norm is given by:\n",
        "\n",
        "$$\\color{Orange}{||x||_p = \\big(\\displaystyle\\sum_i |x_i|^p\\big)^{1/p}| \\tag{12}}$$\n",
        "\n",
        "for $p \\in \\mathbb{R}, p \\geq 1$\n",
        "\n",
        "On an intuitive level, the norm of a vector $x$ measures the distance from the origin to the point $x$.\n",
        "\n",
        "More rigorously, a norm is any function $f$ that satisfies the following properties:\n",
        "\n",
        "$$\n",
        "\\color{Orange}{f(x) = 0 \\implies x=0} \\\\\n",
        "\\color{Orange}{f(x +y) \\leq f(x) + f(y)} \\\\\n",
        "\\color{Orange}{\\forall \\alpha \\in \\mathbb{R}, f(\\alpha x) = |\\alpha|f(x)  \\tag{13}}\n",
        "$$\n",
        "\n",
        "The $L^2$ norm with *p=2* is known as the __Euclidean norm__. Which is simply the Euclidean distance from the origin to the point identified by $x$. It is also common to measure the size of a vector using the squared $L^2$ norm, which can be calculated simply as $x^{\\top}x$"
      ]
    },
    {
      "cell_type": "code",
      "metadata": {
        "colab": {
          "base_uri": "https://localhost:8080/",
          "height": 51
        },
        "id": "1DciOj3Hs2g-",
        "outputId": "4b084d09-1d58-4a6f-a923-ba1389d3a272"
      },
      "source": [
        "# Euclidean distance between square root(3^2 + 4^2) calculated by setting ord='euclidean'\n",
        "dist_euclidean = tf.norm([3., 4.], ord='euclidean')\n",
        "print(\"Euclidean Distance: {}\".format(dist_euclidean))\n",
        "\n",
        "# Size of the vector [3., 4.]\n",
        "vector_size = tf.multiply(tf.transpose([3., 4.]), [3., 4.])\n",
        "print(\"Vector Size: {}\".format(vector_size))"
      ],
      "execution_count": null,
      "outputs": [
        {
          "output_type": "stream",
          "text": [
            "Euclidean Distance: 5.0\n",
            "Vector Size: [ 9. 16.]\n"
          ],
          "name": "stdout"
        }
      ]
    },
    {
      "cell_type": "markdown",
      "metadata": {
        "id": "1_Zg24-vs25u"
      },
      "source": [
        "In many contexts, the squared $L^2$ norm may be undesirable, because it increases very slowly near the origin. In many machine learning applications, it is important to discriminate between elements that are exactly zero and elements that are small but nonzero. In these cases, we turn to a function that grows at the same rate in all locations, but retains mathematical simplicity: the $L^1$ norm, which can be simplified to:\n",
        "\n",
        "$$\\color{Orange}{||x||_1 = \\displaystyle\\sum_i |x_i| \\tag{14}}$$\n"
      ]
    },
    {
      "cell_type": "code",
      "metadata": {
        "colab": {
          "base_uri": "https://localhost:8080/",
          "height": 281
        },
        "id": "OlkUawi5wgBn",
        "outputId": "e622e6db-8fdf-4969-8cdf-5ee412371828"
      },
      "source": [
        "def SE(x,y,intc,beta):\n",
        "    return (1./len(x))*(0.5)*sum(y - beta * x - intc)**2\n",
        "\n",
        "def L1(intc,beta,lam):\n",
        "    return lam*(tf.abs(intc) + tf.abs(beta))\n",
        "\n",
        "def L2(intc,beta,lam):\n",
        "    return lam*(intc**2 + beta**2)\n",
        "\n",
        "N = 100\n",
        "x = np.random.randn(N)\n",
        "y = 2 * x + np.random.randn(N)\n",
        "\n",
        "beta_N = 100\n",
        "beta = tf.linspace(-100., 100., beta_N)\n",
        "intc = 0.0\n",
        "\n",
        "SE_array = np.array([SE(x,y,intc,i) for i in beta])\n",
        "L1_array = np.array([L1(intc,i,lam=30) for i in beta])\n",
        "L2_array = np.array([L2(intc,i,lam=1) for i in beta])\n",
        "\n",
        "fig1 = plt.figure()\n",
        "ax1 = fig1.add_subplot(1,1,1)\n",
        "ax1.plot(beta, SE_array, label='Squared L2 Norm')\n",
        "ax1.plot(beta, L1_array, label='L1 norm')\n",
        "ax1.plot(beta, L2_array, label='L2 norm')\n",
        "plt.rc_context({'axes.edgecolor':'orange', 'xtick.color':'red', 'ytick.color':'red'})\n",
        "plt.title('The graph of each of the norms', color='w')\n",
        "plt.legend()\n",
        "fig1.show()"
      ],
      "execution_count": null,
      "outputs": [
        {
          "output_type": "display_data",
          "data": {
            "image/png": "[encoded data removed]",
            "text/plain": [
              "<Figure size 432x288 with 1 Axes>"
            ]
          },
          "metadata": {
            "tags": []
          }
        }
      ]
    },
    {
      "cell_type": "markdown",
      "metadata": {
        "id": "quBP_kBqwfh8"
      },
      "source": [
        "One other norm that commonly arises in machine learning is the $L^{\\infty}$ norm, also known as the __max norm__. This norm simplifies to the absolute value of the element with the largest magnitude in the vector,\n",
        "\n",
        "$$\\color{Orange}{\\parallel x \\parallel_{\\infty} = max_i |x_i| \\tag{15}}$$\n",
        "\n",
        "If we wish to measure the size of a matrix, in context of deep learning, the most common way to do this is with the __Frobenius norm__:\n",
        "\n",
        "$$\\color{Orange}{\\parallel A \\parallel_F = \\sqrt{\\displaystyle\\sum_{i, j} A^2_{i, j}} \\tag{16}}$$\n",
        "\n",
        "which is analogous to the $L^{2}$ norm of a vector.\n",
        "\n",
        "Meaning for example for a matrix:\n",
        "\n",
        "$$\n",
        "A =\n",
        "\\begin{pmatrix}\n",
        "2 & -1 & 5 \\\\\n",
        "0 & 2 & 1 \\\\\n",
        "3  & 1 & 1  \\\\\n",
        "\\end{pmatrix}\n",
        "$$\n",
        " \n",
        "$||A|| = [2^2 + (-1^2) + 5^2 + 0^2 + 2^2 + 1^2 + 3^2 + 1^2 + 1^2]^{1/2}$\n"
      ]
    },
    {
      "cell_type": "code",
      "metadata": {
        "colab": {
          "base_uri": "https://localhost:8080/",
          "height": 34
        },
        "id": "nfxO_iSN3N5j",
        "outputId": "062c1290-3ba7-423e-f41f-9a4544b582cd"
      },
      "source": [
        "n_matrix_A = tf.constant([[2, -1, 5], [0, 2, 1], [3, 1, 1]], name=\"matrix_A\", dtype=tf.float32)\n",
        "\n",
        "# Frobenius norm for matrix calculated by setting ord='fro'\n",
        "frobenius_norm = tf.norm(n_matrix_A, ord='fro', axis=(0, 1))\n",
        "print(\"Frobenius norm: {}\".format(frobenius_norm))"
      ],
      "execution_count": null,
      "outputs": [
        {
          "output_type": "stream",
          "text": [
            "Frobenius norm: 6.78233003616333\n"
          ],
          "name": "stdout"
        }
      ]
    },
    {
      "cell_type": "markdown",
      "metadata": {
        "id": "B24sBdA63MuZ"
      },
      "source": [
        "\n",
        "The dot product of two vectors can be rewritten in terms of norms as:\n",
        "\n",
        "$$\\color{Orange}{x^{\\top} y = ||x||_2 ||y||_2 cos\\theta \\tag{17}}$$\n",
        "\n",
        "where $\\theta$ is the angle between $x$ and $y$."
      ]
    },
    {
      "cell_type": "code",
      "metadata": {
        "colab": {
          "base_uri": "https://localhost:8080/",
          "height": 337
        },
        "id": "Nu_UIRga0esb",
        "outputId": "057a4455-9b4f-4de0-ee84-6a67ce7b96c9"
      },
      "source": [
        "# for x(0, 2) and y(2, 2) cos theta = 45 degrees\n",
        "n_vector_x = tf.constant([[0], [2]], dtype=tf.float32, name=\"vectorX\")\n",
        "n_vector_y = tf.constant([[2], [2]], dtype=tf.float32, name=\"vectorY\")\n",
        "\n",
        "# Due to pi being in, we won't get an exact value so we are rounding our final value\n",
        "prod_RHS = tf.round(tf.multiply(tf.multiply(tf.norm(n_vector_x), tf.norm(n_vector_y)), tf.cos(np.pi/4)))\n",
        "prod_LHS = tf.tensordot(tf.transpose(n_vector_x), n_vector_y, axes=1, name=\"LHS\")\n",
        "\n",
        "predictor = tf.equal(prod_RHS, prod_LHS)\n",
        "def true_print(): print(\"\"\"Dot Product can be rewritten in terms of norms, where \\n\n",
        "RHS: {} \\nLHS: {}\"\"\".format(prod_RHS, prod_LHS))\n",
        "\n",
        "def false_print(): print(\"\"\"Dot Product can not be rewritten in terms of norms, where \\n\n",
        "RHS: {} \\nLHS: {}\"\"\".format(prod_RHS, prod_LHS))\n",
        "    \n",
        "tf.cond(predictor, true_print, false_print)\n",
        "\n",
        "origin=[0,0]\n",
        "plt.rc_context({'axes.edgecolor':'orange', 'xtick.color':'red', 'ytick.color':'red'})\n",
        "plt.xlim(-2, 10)\n",
        "plt.ylim(-1, 10)\n",
        "plt.axvline(x=0, color='grey', zorder=0)\n",
        "plt.axhline(y=0, color='grey', zorder=0)\n",
        "plt.text(-1, 2, r'$\\vec{x}$', size=18)\n",
        "plt.text(2, 1.5, r'$\\vec{y}$', size=18)\n",
        "plt.quiver(*origin, n_vector_x, n_vector_y, color=['#FF9A13','#1190FF'], scale=8)\n",
        "plt.show()"
      ],
      "execution_count": null,
      "outputs": [
        {
          "output_type": "stream",
          "text": [
            "Dot Product can be rewritten in terms of norms, where \n",
            "\n",
            "RHS: 4.0 \n",
            "LHS: [[4.]]\n"
          ],
          "name": "stdout"
        },
        {
          "output_type": "display_data",
          "data": {
            "image/png": "[encoded data removed]",
            "text/plain": [
              "<Figure size 432x288 with 1 Axes>"
            ]
          },
          "metadata": {
            "tags": []
          }
        }
      ]
    }
  ]
}